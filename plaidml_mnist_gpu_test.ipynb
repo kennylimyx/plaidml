{
 "cells": [
  {
   "cell_type": "code",
   "execution_count": null,
   "metadata": {},
   "outputs": [],
   "source": [
    "# adapted from frank xu\n",
    "# if you are not running plaidml, skip the first code cell\n",
    "# if you are, start with cell 1 and skip the section title 'CPU'"
   ]
  },
  {
   "cell_type": "code",
   "execution_count": 1,
   "metadata": {},
   "outputs": [],
   "source": [
    "# Importing PlaidML. Make sure you follow this \n",
    "import plaidml.keras\n",
    "plaidml.keras.install_backend()\n",
    "import os\n",
    "os.environ[\"KERAS_BACKEND\"] = \"plaidml.keras.backend\""
   ]
  },
  {
   "cell_type": "code",
   "execution_count": 2,
   "metadata": {},
   "outputs": [],
   "source": [
    "import keras\n",
    "from keras.models import Sequential\n",
    "from keras.layers import Dense, Dropout, Flatten\n",
    "from keras.layers import Conv2D, MaxPooling2D\n",
    "from keras import backend as K\n",
    "\n",
    "# Download fashion dataset from Keras\n",
    "fashion_mnist = keras.datasets.fashion_mnist\n",
    "(x_train, y_train), (x_test, y_test) = keras.datasets.fashion_mnist.load_data()\n",
    "\n",
    "# Reshape and normalize the data\n",
    "x_train = x_train.astype('float32').reshape(60000,28,28,1) / 255\n",
    "x_test = x_test.astype('float32').reshape(10000,28,28,1) / 255"
   ]
  },
  {
   "cell_type": "code",
   "execution_count": 3,
   "metadata": {},
   "outputs": [
    {
     "name": "stderr",
     "output_type": "stream",
     "text": [
      "INFO:plaidml:Opening device \"metal_intel(r)_hd_graphics_530.0\"\n"
     ]
    }
   ],
   "source": [
    "# Build a CNN model\n",
    "# run this each time before you fit the model\n",
    "\n",
    "# if using plaidml, you should see \"INFO:plaidml:Opening device xxx\" after you run this chunk\n",
    "\n",
    "\n",
    "model = keras.Sequential()\n",
    "model.add(keras.layers.Conv2D(filters=64, kernel_size=2, padding='same', activation='relu', input_shape=(28,28,1))) \n",
    "model.add(keras.layers.MaxPooling2D(pool_size=2))\n",
    "model.add(keras.layers.Dropout(0.3))\n",
    "model.add(keras.layers.Conv2D(filters=32, kernel_size=2, padding='same', activation='relu'))\n",
    "model.add(keras.layers.MaxPooling2D(pool_size=2))\n",
    "model.add(keras.layers.Dropout(0.3))\n",
    "model.add(keras.layers.Flatten())\n",
    "model.add(keras.layers.Dense(256, activation='relu'))\n",
    "model.add(keras.layers.Dropout(0.5))\n",
    "model.add(keras.layers.Dense(10, activation='softmax'))\n",
    "\n",
    "# Compile the model\n",
    "model.compile(optimizer='adam',\n",
    "              loss=keras.losses.sparse_categorical_crossentropy,\n",
    "              metrics=['accuracy'])"
   ]
  },
  {
   "cell_type": "markdown",
   "metadata": {},
   "source": [
    "# CPU"
   ]
  },
  {
   "cell_type": "code",
   "execution_count": 4,
   "metadata": {},
   "outputs": [
    {
     "name": "stdout",
     "output_type": "stream",
     "text": [
      "Epoch 1/10\n",
      "938/938 [==============================] - 53s 56ms/step - loss: 0.5860 - accuracy: 0.7855\n",
      "Epoch 2/10\n",
      "938/938 [==============================] - 55s 58ms/step - loss: 0.4059 - accuracy: 0.8525\n",
      "Epoch 3/10\n",
      "938/938 [==============================] - 55s 59ms/step - loss: 0.3693 - accuracy: 0.8649\n",
      "Epoch 4/10\n",
      "938/938 [==============================] - 55s 59ms/step - loss: 0.3426 - accuracy: 0.8738\n",
      "Epoch 5/10\n",
      "938/938 [==============================] - 53s 57ms/step - loss: 0.3267 - accuracy: 0.8789\n",
      "Epoch 6/10\n",
      "938/938 [==============================] - 48s 51ms/step - loss: 0.3123 - accuracy: 0.8849\n",
      "Epoch 7/10\n",
      "938/938 [==============================] - 55s 58ms/step - loss: 0.3006 - accuracy: 0.8895\n",
      "Epoch 8/10\n",
      "938/938 [==============================] - 55s 58ms/step - loss: 0.2901 - accuracy: 0.8925\n",
      "Epoch 9/10\n",
      "938/938 [==============================] - 53s 57ms/step - loss: 0.2801 - accuracy: 0.8971\n",
      "Epoch 10/10\n",
      "938/938 [==============================] - 54s 57ms/step - loss: 0.2702 - accuracy: 0.9003\n",
      "\n",
      " Test accuracy: 0.9103999733924866\n",
      "CPU times: user 22min 52s, sys: 11min 30s, total: 34min 22s\n",
      "Wall time: 8min 59s\n"
     ]
    }
   ],
   "source": [
    "%%time\n",
    "# Fit the model on training set\n",
    "model.fit(x_train, y_train,\n",
    "          batch_size=64,\n",
    "          epochs=10)\n",
    "\n",
    "# Evaluate the model on test set\n",
    "score = model.evaluate(x_test, y_test, verbose=0)\n",
    "# Print test accuracy\n",
    "print('\\n', 'Test accuracy:', score[1])"
   ]
  },
  {
   "cell_type": "markdown",
   "metadata": {},
   "source": [
    "# GPU"
   ]
  },
  {
   "cell_type": "code",
   "execution_count": 4,
   "metadata": {},
   "outputs": [
    {
     "name": "stdout",
     "output_type": "stream",
     "text": [
      "Epoch 1/10\n",
      "60000/60000 [==============================] - 19s 315us/step - loss: 0.5891 - acc: 0.7837\n",
      "Epoch 2/10\n",
      "60000/60000 [==============================] - 18s 298us/step - loss: 0.4071 - acc: 0.8526\n",
      "Epoch 3/10\n",
      "60000/60000 [==============================] - 18s 298us/step - loss: 0.3644 - acc: 0.8678\n",
      "Epoch 4/10\n",
      "60000/60000 [==============================] - 18s 295us/step - loss: 0.3388 - acc: 0.8771\n",
      "Epoch 5/10\n",
      "60000/60000 [==============================] - 18s 294us/step - loss: 0.3166 - acc: 0.8854\n",
      "Epoch 6/10\n",
      "60000/60000 [==============================] - 20s 339us/step - loss: 0.3025 - acc: 0.8885\n",
      "Epoch 7/10\n",
      "60000/60000 [==============================] - 17s 289us/step - loss: 0.2926 - acc: 0.8926\n",
      "Epoch 8/10\n",
      "60000/60000 [==============================] - 18s 293us/step - loss: 0.2800 - acc: 0.8976\n",
      "Epoch 9/10\n",
      "60000/60000 [==============================] - 18s 296us/step - loss: 0.2741 - acc: 0.8993\n",
      "Epoch 10/10\n",
      "60000/60000 [==============================] - 18s 296us/step - loss: 0.2654 - acc: 0.9016\n",
      "\n",
      " Test accuracy: 0.9078\n",
      "CPU times: user 1min 19s, sys: 1min 18s, total: 2min 37s\n",
      "Wall time: 3min 4s\n"
     ]
    }
   ],
   "source": [
    "%%time\n",
    "# Fit the model on training set\n",
    "model.fit(x_train, y_train,\n",
    "          batch_size=64,\n",
    "          epochs=10)\n",
    "\n",
    "# Evaluate the model on test set\n",
    "score = model.evaluate(x_test, y_test, verbose=0)\n",
    "# Print test accuracy\n",
    "print('\\n', 'Test accuracy:', score[1])"
   ]
  }
 ],
 "metadata": {
  "kernelspec": {
   "display_name": "Python 3",
   "language": "python",
   "name": "python3"
  },
  "language_info": {
   "codemirror_mode": {
    "name": "ipython",
    "version": 3
   },
   "file_extension": ".py",
   "mimetype": "text/x-python",
   "name": "python",
   "nbconvert_exporter": "python",
   "pygments_lexer": "ipython3",
   "version": "3.7.6"
  }
 },
 "nbformat": 4,
 "nbformat_minor": 4
}
